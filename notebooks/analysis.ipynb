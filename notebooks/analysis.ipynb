{
 "cells": [
  {
   "cell_type": "code",
   "execution_count": 3,
   "id": "c3e5344a",
   "metadata": {},
   "outputs": [],
   "source": [
    "import pandas as pd\n",
    "from pathlib import Path"
   ]
  },
  {
   "cell_type": "code",
   "execution_count": 12,
   "id": "66745db1",
   "metadata": {},
   "outputs": [],
   "source": [
    "train_data_path = Path('.').resolve().parent / 'data' / 'fraudTrain.csv'\n",
    "test_data_path = Path('.').resolve().parent / 'data' / 'fraudTest.csv'\n",
    "\n",
    "train_data = pd.read_csv(train_data_path, index_col=0)\n",
    "test_data = pd.read_csv(test_data_path, index_col=0)"
   ]
  },
  {
   "cell_type": "markdown",
   "id": "a14c18d4",
   "metadata": {},
   "source": [
    "# EDA"
   ]
  },
  {
   "cell_type": "markdown",
   "id": "ce16afdb",
   "metadata": {},
   "source": [
    "same features?"
   ]
  },
  {
   "cell_type": "code",
   "execution_count": 21,
   "id": "3b105245",
   "metadata": {},
   "outputs": [
    {
     "data": {
      "text/plain": [
       "True"
      ]
     },
     "execution_count": 21,
     "metadata": {},
     "output_type": "execute_result"
    }
   ],
   "source": [
    "sorted(train_data.columns) == sorted(test_data.columns)"
   ]
  },
  {
   "cell_type": "markdown",
   "id": "424acc1f",
   "metadata": {},
   "source": [
    "same dtypes?"
   ]
  },
  {
   "cell_type": "code",
   "execution_count": 25,
   "id": "93ebecd6",
   "metadata": {},
   "outputs": [
    {
     "data": {
      "text/plain": [
       "True"
      ]
     },
     "execution_count": 25,
     "metadata": {},
     "output_type": "execute_result"
    }
   ],
   "source": [
    "all((train_data.dtypes == test_data.dtypes))"
   ]
  },
  {
   "cell_type": "markdown",
   "id": "d8da3463",
   "metadata": {},
   "source": [
    "duplicated?"
   ]
  },
  {
   "cell_type": "code",
   "execution_count": 31,
   "id": "b9d2e448",
   "metadata": {},
   "outputs": [
    {
     "data": {
      "text/plain": [
       "(np.False_, np.False_)"
      ]
     },
     "execution_count": 31,
     "metadata": {},
     "output_type": "execute_result"
    }
   ],
   "source": [
    "train_data.duplicated().any(), test_data.duplicated().any()"
   ]
  },
  {
   "cell_type": "markdown",
   "id": "31aefa0d",
   "metadata": {},
   "source": [
    "null?"
   ]
  },
  {
   "cell_type": "code",
   "execution_count": 36,
   "id": "1f2a45d3",
   "metadata": {},
   "outputs": [
    {
     "data": {
      "text/plain": [
       "(np.False_, np.False_)"
      ]
     },
     "execution_count": 36,
     "metadata": {},
     "output_type": "execute_result"
    }
   ],
   "source": [
    "train_data.isna().any().any(), test_data.isna().any().any()"
   ]
  },
  {
   "cell_type": "code",
   "execution_count": null,
   "id": "f48c02c0",
   "metadata": {},
   "outputs": [],
   "source": []
  },
  {
   "cell_type": "code",
   "execution_count": 43,
   "id": "e342ba39",
   "metadata": {},
   "outputs": [
    {
     "data": {
      "text/plain": [
       "trans_date_trans_time     object\n",
       "cc_num                     int64\n",
       "merchant                  object\n",
       "category                  object\n",
       "amt                      float64\n",
       "first                     object\n",
       "last                      object\n",
       "gender                    object\n",
       "street                    object\n",
       "city                      object\n",
       "state                     object\n",
       "zip                        int64\n",
       "lat                      float64\n",
       "long                     float64\n",
       "city_pop                   int64\n",
       "job                       object\n",
       "dob                       object\n",
       "trans_num                 object\n",
       "unix_time                  int64\n",
       "merch_lat                float64\n",
       "merch_long               float64\n",
       "is_fraud                   int64\n",
       "dtype: object"
      ]
     },
     "execution_count": 43,
     "metadata": {},
     "output_type": "execute_result"
    }
   ],
   "source": [
    "train_data.dtypes"
   ]
  }
 ],
 "metadata": {
  "kernelspec": {
   "display_name": "credit-card-fraud-detection-venv",
   "language": "python",
   "name": "python3"
  },
  "language_info": {
   "codemirror_mode": {
    "name": "ipython",
    "version": 3
   },
   "file_extension": ".py",
   "mimetype": "text/x-python",
   "name": "python",
   "nbconvert_exporter": "python",
   "pygments_lexer": "ipython3",
   "version": "3.12.8"
  }
 },
 "nbformat": 4,
 "nbformat_minor": 5
}
